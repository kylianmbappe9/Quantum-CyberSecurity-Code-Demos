{
  "nbformat": 4,
  "nbformat_minor": 0,
  "metadata": {
    "colab": {
      "provenance": []
    },
    "kernelspec": {
      "name": "python3",
      "display_name": "Python 3"
    },
    "language_info": {
      "name": "python"
    }
  },
  "cells": [
    {
      "cell_type": "markdown",
      "source": [
        "##what is phase kickback\n",
        "-> phase kickback more of \"senses\" the information being available at the very moment withuot directly observing the information per se\n",
        "-> phase kcikback plays a foundation role on many quantum algorithms that plays the \"sense the information before interacting\" role like Quantum Fourier Transforms, quantum phase estimation, Deuutsch Jotza and Shors algorithm"
      ],
      "metadata": {
        "id": "i1iYE6vZCNiS"
      }
    },
    {
      "cell_type": "code",
      "source": [
        "print(\"this is the code just to setup our quantum modules and begin our quantum code\")\n",
        "!pip install pennylane\n",
        "!pip install pylatexenc\n",
        "!pip install numpy\n",
        "!pip install matplotlib\n",
        "!pip install scipy\n",
        "\n"
      ],
      "metadata": {
        "colab": {
          "base_uri": "https://localhost:8080/"
        },
        "id": "aN32gkNFCy3t",
        "outputId": "b41b0d4f-dbe4-4b05-a535-82b5f9b2f2dd"
      },
      "execution_count": 91,
      "outputs": [
        {
          "output_type": "stream",
          "name": "stdout",
          "text": [
            "this is the code just to setup our quantum modules and begin our quantum code\n",
            "Requirement already satisfied: pennylane in /usr/local/lib/python3.11/dist-packages (0.41.1)\n",
            "Requirement already satisfied: numpy in /usr/local/lib/python3.11/dist-packages (from pennylane) (2.0.2)\n",
            "Requirement already satisfied: scipy in /usr/local/lib/python3.11/dist-packages (from pennylane) (1.15.3)\n",
            "Requirement already satisfied: networkx in /usr/local/lib/python3.11/dist-packages (from pennylane) (3.5)\n",
            "Requirement already satisfied: rustworkx>=0.14.0 in /usr/local/lib/python3.11/dist-packages (from pennylane) (0.16.0)\n",
            "Requirement already satisfied: autograd in /usr/local/lib/python3.11/dist-packages (from pennylane) (1.8.0)\n",
            "Requirement already satisfied: tomlkit in /usr/local/lib/python3.11/dist-packages (from pennylane) (0.13.2)\n",
            "Requirement already satisfied: appdirs in /usr/local/lib/python3.11/dist-packages (from pennylane) (1.4.4)\n",
            "Requirement already satisfied: autoray>=0.6.11 in /usr/local/lib/python3.11/dist-packages (from pennylane) (0.7.1)\n",
            "Requirement already satisfied: cachetools in /usr/local/lib/python3.11/dist-packages (from pennylane) (5.5.2)\n",
            "Requirement already satisfied: pennylane-lightning>=0.41 in /usr/local/lib/python3.11/dist-packages (from pennylane) (0.41.1)\n",
            "Requirement already satisfied: requests in /usr/local/lib/python3.11/dist-packages (from pennylane) (2.32.3)\n",
            "Requirement already satisfied: typing-extensions in /usr/local/lib/python3.11/dist-packages (from pennylane) (4.14.0)\n",
            "Requirement already satisfied: packaging in /usr/local/lib/python3.11/dist-packages (from pennylane) (24.2)\n",
            "Requirement already satisfied: diastatic-malt in /usr/local/lib/python3.11/dist-packages (from pennylane) (2.15.2)\n",
            "Requirement already satisfied: scipy-openblas32>=0.3.26 in /usr/local/lib/python3.11/dist-packages (from pennylane-lightning>=0.41->pennylane) (0.3.29.265.1)\n",
            "Requirement already satisfied: astunparse in /usr/local/lib/python3.11/dist-packages (from diastatic-malt->pennylane) (1.6.3)\n",
            "Requirement already satisfied: gast in /usr/local/lib/python3.11/dist-packages (from diastatic-malt->pennylane) (0.6.0)\n",
            "Requirement already satisfied: termcolor in /usr/local/lib/python3.11/dist-packages (from diastatic-malt->pennylane) (3.1.0)\n",
            "Requirement already satisfied: charset-normalizer<4,>=2 in /usr/local/lib/python3.11/dist-packages (from requests->pennylane) (3.4.2)\n",
            "Requirement already satisfied: idna<4,>=2.5 in /usr/local/lib/python3.11/dist-packages (from requests->pennylane) (3.10)\n",
            "Requirement already satisfied: urllib3<3,>=1.21.1 in /usr/local/lib/python3.11/dist-packages (from requests->pennylane) (2.4.0)\n",
            "Requirement already satisfied: certifi>=2017.4.17 in /usr/local/lib/python3.11/dist-packages (from requests->pennylane) (2025.4.26)\n",
            "Requirement already satisfied: wheel<1.0,>=0.23.0 in /usr/local/lib/python3.11/dist-packages (from astunparse->diastatic-malt->pennylane) (0.45.1)\n",
            "Requirement already satisfied: six<2.0,>=1.6.1 in /usr/local/lib/python3.11/dist-packages (from astunparse->diastatic-malt->pennylane) (1.17.0)\n",
            "Requirement already satisfied: pylatexenc in /usr/local/lib/python3.11/dist-packages (2.10)\n",
            "Requirement already satisfied: numpy in /usr/local/lib/python3.11/dist-packages (2.0.2)\n",
            "Requirement already satisfied: matplotlib in /usr/local/lib/python3.11/dist-packages (3.10.0)\n",
            "Requirement already satisfied: contourpy>=1.0.1 in /usr/local/lib/python3.11/dist-packages (from matplotlib) (1.3.2)\n",
            "Requirement already satisfied: cycler>=0.10 in /usr/local/lib/python3.11/dist-packages (from matplotlib) (0.12.1)\n",
            "Requirement already satisfied: fonttools>=4.22.0 in /usr/local/lib/python3.11/dist-packages (from matplotlib) (4.58.1)\n",
            "Requirement already satisfied: kiwisolver>=1.3.1 in /usr/local/lib/python3.11/dist-packages (from matplotlib) (1.4.8)\n",
            "Requirement already satisfied: numpy>=1.23 in /usr/local/lib/python3.11/dist-packages (from matplotlib) (2.0.2)\n",
            "Requirement already satisfied: packaging>=20.0 in /usr/local/lib/python3.11/dist-packages (from matplotlib) (24.2)\n",
            "Requirement already satisfied: pillow>=8 in /usr/local/lib/python3.11/dist-packages (from matplotlib) (11.2.1)\n",
            "Requirement already satisfied: pyparsing>=2.3.1 in /usr/local/lib/python3.11/dist-packages (from matplotlib) (3.2.3)\n",
            "Requirement already satisfied: python-dateutil>=2.7 in /usr/local/lib/python3.11/dist-packages (from matplotlib) (2.9.0.post0)\n",
            "Requirement already satisfied: six>=1.5 in /usr/local/lib/python3.11/dist-packages (from python-dateutil>=2.7->matplotlib) (1.17.0)\n",
            "Requirement already satisfied: scipy in /usr/local/lib/python3.11/dist-packages (1.15.3)\n",
            "Requirement already satisfied: numpy<2.5,>=1.23.5 in /usr/local/lib/python3.11/dist-packages (from scipy) (2.0.2)\n"
          ]
        }
      ]
    },
    {
      "cell_type": "code",
      "source": [
        "import pennylane as qml\n",
        "import numpy as np\n",
        "\n",
        "num_wires = 5\n",
        "dev = qml.device(\"default.qubit\", wires=num_wires, shots=1)\n"
      ],
      "metadata": {
        "id": "B9xXm2LEEABA"
      },
      "execution_count": 92,
      "outputs": []
    },
    {
      "cell_type": "markdown",
      "source": [
        "##  What is Phase Kickback?\n",
        "\n",
        "Phase kickback is a quantum effect where **phase information from a unitary gate acting on a target register is transferred (or \"kicked back\") to a control qubit**.\n",
        "\n",
        "In our case, we use this to build a **quantum lock**. Here's how it works:\n",
        "\n",
        "- Qubit 0 is the **control** qubit (the ancilla), initialized in a superposition using a Hadamard gate.\n",
        "- Qubits 1–4 represent the **target register**, where we input a possible key.\n",
        "- We apply a **controlled unitary**, which flips the phase **only if the target matches a special 4-qubit basis state** — the correct quantum key.\n",
        "\n",
        "So:\n",
        "- If the input key matches the secret key, the controlled unitary flips the phase of the state → the control qubit becomes \\( |->rangle \\).\n",
        "- If not, the control qubit stays in \\( |+>rangle \\).\n",
        "\n",
        "Then a final Hadamard on the control qubit lets us **measure** whether the lock was opened.\n"
      ],
      "metadata": {
        "id": "XOYJmRpDFOTq"
      }
    },
    {
      "cell_type": "code",
      "source": [
        "def quantum_lock(secret_key):\n",
        "    return qml.FlipSign(secret_key, wires=[1, 2, 3, 4])\n",
        "\n",
        "\n",
        "def build_key(key):\n",
        "    qml.BasisState(np.array(key), wires=[1, 2, 3, 4])\n"
      ],
      "metadata": {
        "id": "OwqxtdWJFx6z"
      },
      "execution_count": 93,
      "outputs": []
    },
    {
      "cell_type": "markdown",
      "source": [
        "little bit easier into our first text, its like lock and key, to unlock a lock, you need a key that matches the pattern of lock. Pressume the quantum lock as the door and build key as your ket, the only way you can unlock a door is when you have a key that matches the door knob to unlock the door"
      ],
      "metadata": {
        "id": "-ianJSXjGE0u"
      }
    },
    {
      "cell_type": "code",
      "source": [
        "@qml.qnode(dev)\n",
        "def quantum_locking_mechanism(lock, key):\n",
        "    build_key(key)\n",
        "    qml.Hadamard(wires=0)\n",
        "    qml.ctrl(lock, control=0)\n",
        "    qml.Hadamard(wires=0)\n",
        "    return qml.sample(wires=0)\n",
        "\n",
        "def check_key(lock, key):\n",
        "    result = quantum_locking_mechanism(lock, key)\n",
        "    if result == 1:\n",
        "        print(\"✅ Correct key! Lock opened.\")\n",
        "    else:\n",
        "        print(\"❌ Incorrect key.\")"
      ],
      "metadata": {
        "id": "ZHUMYJZjG3lK"
      },
      "execution_count": 94,
      "outputs": []
    },
    {
      "cell_type": "code",
      "source": [
        "secret_key = [1, 1, 0, 1]\n",
        "lock = quantum_lock(secret_key)\n",
        "\n",
        "check_key(lock, secret_key)"
      ],
      "metadata": {
        "colab": {
          "base_uri": "https://localhost:8080/"
        },
        "id": "VpkziDWbJ_Wl",
        "outputId": "171ee417-604f-4cd0-d1d8-586061ab783f"
      },
      "execution_count": 95,
      "outputs": [
        {
          "output_type": "stream",
          "name": "stdout",
          "text": [
            "✅ Correct key! Lock opened.\n"
          ]
        }
      ]
    },
    {
      "cell_type": "markdown",
      "source": [
        "so let's expalin so that everyone understands\n",
        "\n",
        "1) We have our beginning qubit |0>\n",
        "2) I set the secret key \"it is [0, 1, 1, 1] but I am not going to reveal it unless you try\n",
        "3) Now you are going to try unlocking this gate BUT it is not me who will have the final laugh but the truth detector [measuring gate] will have the final laugh\n",
        "4) You tried, guessed and maybe at one point,you guessed it right\n",
        "5) I wont reveal it yet but my eperession will change (it will be a little bit observable but not too revealing) why? because you are going to ask\n",
        "6) me and you will go to the truth detector and reveal our unlock code number\n",
        "6) if its correct, it reveals \"it is correct\"\n",
        "else it is worong"
      ],
      "metadata": {
        "id": "e66OSe_jRA9h"
      }
    }
  ]
}